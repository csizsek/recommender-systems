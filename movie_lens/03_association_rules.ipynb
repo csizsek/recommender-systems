{
 "cells": [
  {
   "cell_type": "code",
   "execution_count": 1,
   "metadata": {},
   "outputs": [],
   "source": [
    "import collections\n",
    "import itertools\n",
    "\n",
    "import matplotlib as mpl\n",
    "import matplotlib.pyplot as plt\n",
    "import numpy as np\n",
    "import pandas as pd\n",
    "import pylab\n",
    "import scipy\n",
    "import seaborn as sns\n",
    "import sklearn\n",
    "from sklearn import *\n",
    "import statsmodels as sm\n",
    "\n",
    "np.random.seed(1337)\n",
    "\n",
    "%matplotlib inline\n",
    "\n",
    "sns.set(font_scale=1.3)\n",
    "sns.set_style('whitegrid')\n",
    "sns.set_palette(sns.color_palette('muted'))"
   ]
  },
  {
   "cell_type": "markdown",
   "metadata": {},
   "source": [
    "## Load the data"
   ]
  },
  {
   "cell_type": "code",
   "execution_count": 2,
   "metadata": {},
   "outputs": [],
   "source": [
    "movies = pd.read_csv('data/movies_clean.csv')\n",
    "ratings = pd.read_csv('data/ratings_train.csv')"
   ]
  },
  {
   "cell_type": "markdown",
   "metadata": {},
   "source": [
    "## Generate frequent item sets"
   ]
  },
  {
   "cell_type": "code",
   "execution_count": 3,
   "metadata": {},
   "outputs": [
    {
     "name": "stdout",
     "output_type": "stream",
     "text": [
      "610\n"
     ]
    }
   ],
   "source": [
    "transactions = []\n",
    "for k, g in ratings.groupby(['user_id']):\n",
    "    transactions.append(g.movie_id.tolist())\n",
    "print(len(transactions))"
   ]
  },
  {
   "cell_type": "code",
   "execution_count": 4,
   "metadata": {},
   "outputs": [
    {
     "data": {
      "text/plain": [
       "851"
      ]
     },
     "execution_count": 4,
     "metadata": {},
     "output_type": "execute_result"
    }
   ],
   "source": [
    "def calculate_itemsets_one(ts, min_sup_ratio):\n",
    "    tmp = collections.defaultdict(int)\n",
    "    ret = {}\n",
    "    for t in ts:\n",
    "        for movie_id in t:\n",
    "            tmp[frozenset({movie_id})] += 1\n",
    "    for movie_id, cnt in tmp.items():\n",
    "        if cnt >= len(ts) * min_sup_ratio:\n",
    "            ret[movie_id] = cnt\n",
    "    return ret\n",
    "frequent_items = calculate_itemsets_one(transactions, 0.04)\n",
    "len(frequent_items)"
   ]
  },
  {
   "cell_type": "code",
   "execution_count": 5,
   "metadata": {},
   "outputs": [
    {
     "data": {
      "text/plain": [
       "22701"
      ]
     },
     "execution_count": 5,
     "metadata": {},
     "output_type": "execute_result"
    }
   ],
   "source": [
    "def calculate_itemsets_two(ts, one_itemsets, min_sup_ratio):\n",
    "    one_items= [list(k)[0] for k in one_itemsets.keys()]\n",
    "    tmp = collections.defaultdict(int)\n",
    "    ret = {}\n",
    "    for t in ts:\n",
    "        tf = list(set(t).intersection(set(one_items)))\n",
    "        if len(tf) >= 2:\n",
    "            for pair in itertools.combinations(tf, 2):\n",
    "                if pair[0] in one_items and pair[1] in one_items:\n",
    "                    tmp[frozenset(pair)] += 1\n",
    "    for pair, cnt in tmp.items():\n",
    "        if cnt >= len(ts) * min_sup_ratio:\n",
    "            ret[pair] = cnt\n",
    "    return ret\n",
    "frequent_pairs = calculate_itemsets_two(transactions, frequent_items, 0.04)\n",
    "len(frequent_pairs)"
   ]
  },
  {
   "cell_type": "code",
   "execution_count": 6,
   "metadata": {},
   "outputs": [
    {
     "data": {
      "text/plain": [
       "45402"
      ]
     },
     "execution_count": 6,
     "metadata": {},
     "output_type": "execute_result"
    }
   ],
   "source": [
    "def calculate_association_rules(one_itemsets, two_itemsets, n_transactions):\n",
    "    ret = []\n",
    "    for source, source_freq in one_itemsets.items():\n",
    "        for key, group_freq in two_itemsets.items():\n",
    "            if source.issubset(key):\n",
    "                target = key.difference(source)\n",
    "                support = 1.0 * group_freq / n_transactions\n",
    "                confidence = 1.0 * group_freq / source_freq\n",
    "                ret.append((next(iter(source)), next(iter(target)), confidence, support))\n",
    "    return ret\n",
    "rules = calculate_association_rules(frequent_items, frequent_pairs, len(transactions))\n",
    "len(rules)"
   ]
  },
  {
   "cell_type": "markdown",
   "metadata": {},
   "source": [
    "## People also watched"
   ]
  },
  {
   "cell_type": "code",
   "execution_count": 7,
   "metadata": {},
   "outputs": [
    {
     "name": "stdout",
     "output_type": "stream",
     "text": [
      "Superman (1978)                            --->  Star Wars: Episode IV - A New Hope (1977\n",
      "Mad Max (1979)                             --->  Terminator, The (1984)                  \n",
      "In the Line of Fire (1993)                 --->  Fugitive, The (1993)                    \n",
      "Ghostbusters II (1989)                     --->  Matrix, The (1999)                      \n",
      "X-Men: The Last Stand (2006)               --->  Lord of the Rings: The Two Towers, The (\n",
      "Hulk (2003)                                --->  Lord of the Rings: The Two Towers, The (\n",
      "Star Trek III: The Search for Spock (198   --->  Star Wars: Episode IV - A New Hope (1977\n",
      "Hellboy (2004)                             --->  Jurassic Park (1993)                    \n",
      "Captain America: The First Avenger (2011   --->  Dark Knight, The (2008)                 \n",
      "Escape from New York (1981)                --->  Star Wars: Episode IV - A New Hope (1977\n",
      "Pirates of the Caribbean: At World's End   --->  Pirates of the Caribbean: The Curse of t\n",
      "League of Extraordinary Gentlemen, The (   --->  Lord of the Rings: The Fellowship of the\n",
      "Hero (Ying xiong) (2002)                   --->  Matrix, The (1999)                      \n",
      "Hero (Ying xiong) (2002)                   --->  Lord of the Rings: The Two Towers, The (\n"
     ]
    }
   ],
   "source": [
    "movies_map = dict(zip(movies.movie_id.tolist(), movies.title.tolist()))\n",
    "for r in rules:\n",
    "    if r[2] > 0.85:\n",
    "        print('{0:40.40s}   --->  {1:40.40s}'.format(movies_map[r[0]], movies_map[r[1]]))"
   ]
  }
 ],
 "metadata": {
  "kernelspec": {
   "display_name": "Python 3",
   "language": "python",
   "name": "python3"
  },
  "language_info": {
   "codemirror_mode": {
    "name": "ipython",
    "version": 3
   },
   "file_extension": ".py",
   "mimetype": "text/x-python",
   "name": "python",
   "nbconvert_exporter": "python",
   "pygments_lexer": "ipython3",
   "version": "3.6.8"
  }
 },
 "nbformat": 4,
 "nbformat_minor": 2
}
