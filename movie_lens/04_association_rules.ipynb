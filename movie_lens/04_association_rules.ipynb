{
 "cells": [
  {
   "cell_type": "code",
   "execution_count": 1,
   "metadata": {},
   "outputs": [],
   "source": [
    "import collections\n",
    "import itertools\n",
    "\n",
    "import matplotlib as mpl\n",
    "import matplotlib.pyplot as plt\n",
    "import numpy as np\n",
    "import pandas as pd\n",
    "import pylab\n",
    "import scipy\n",
    "import seaborn as sns\n",
    "import sklearn\n",
    "from sklearn import *\n",
    "import statsmodels as sm\n",
    "\n",
    "np.random.seed(1337)\n",
    "\n",
    "%matplotlib inline\n",
    "\n",
    "sns.set(font_scale=1.3)\n",
    "sns.set_style('whitegrid')\n",
    "sns.set_palette(sns.color_palette('muted'))\n",
    "\n",
    "pd.options.display.max_colwidth = 30\n",
    "pd.options.display.float_format = '{:,.3f}'.format"
   ]
  },
  {
   "cell_type": "markdown",
   "metadata": {},
   "source": [
    "## Load the data"
   ]
  },
  {
   "cell_type": "code",
   "execution_count": 2,
   "metadata": {},
   "outputs": [],
   "source": [
    "movies = pd.read_csv('data/movies_clean.csv')\n",
    "ratings = pd.read_csv('data/ratings_train.csv')"
   ]
  },
  {
   "cell_type": "markdown",
   "metadata": {},
   "source": [
    "## Generate frequent item sets"
   ]
  },
  {
   "cell_type": "code",
   "execution_count": 3,
   "metadata": {},
   "outputs": [
    {
     "name": "stdout",
     "output_type": "stream",
     "text": [
      "138493\n"
     ]
    }
   ],
   "source": [
    "transactions = []\n",
    "for k, g in ratings.groupby(['user_id']):\n",
    "    transactions.append(g.movie_id.tolist())\n",
    "print(len(transactions))"
   ]
  },
  {
   "cell_type": "code",
   "execution_count": 4,
   "metadata": {},
   "outputs": [
    {
     "data": {
      "text/plain": [
       "293"
      ]
     },
     "execution_count": 4,
     "metadata": {},
     "output_type": "execute_result"
    }
   ],
   "source": [
    "def calculate_itemsets_one(ts, min_sup_ratio):\n",
    "    tmp = collections.defaultdict(int)\n",
    "    ret = {}\n",
    "    for t in ts:\n",
    "        for movie_id in t:\n",
    "            tmp[frozenset({movie_id})] += 1\n",
    "    for movie_id, cnt in tmp.items():\n",
    "        if cnt >= len(ts) * min_sup_ratio:\n",
    "            ret[movie_id] = cnt\n",
    "    return ret\n",
    "frequent_items = calculate_itemsets_one(transactions, 0.08)\n",
    "len(frequent_items)"
   ]
  },
  {
   "cell_type": "code",
   "execution_count": 5,
   "metadata": {},
   "outputs": [
    {
     "data": {
      "text/plain": [
       "1744"
      ]
     },
     "execution_count": 5,
     "metadata": {},
     "output_type": "execute_result"
    }
   ],
   "source": [
    "def calculate_itemsets_two(ts, one_itemsets, min_sup_ratio):\n",
    "    one_items= [list(k)[0] for k in one_itemsets.keys()]\n",
    "    tmp = collections.defaultdict(int)\n",
    "    ret = {}\n",
    "    for t in ts:\n",
    "        tf = list(set(t).intersection(set(one_items)))\n",
    "        if len(tf) >= 2:\n",
    "            for pair in itertools.combinations(tf, 2):\n",
    "                if pair[0] in one_items and pair[1] in one_items:\n",
    "                    tmp[frozenset(pair)] += 1\n",
    "    for pair, cnt in tmp.items():\n",
    "        if cnt >= len(ts) * min_sup_ratio:\n",
    "            ret[pair] = cnt\n",
    "    return ret\n",
    "frequent_pairs = calculate_itemsets_two(transactions, frequent_items, 0.08)\n",
    "len(frequent_pairs)"
   ]
  },
  {
   "cell_type": "code",
   "execution_count": 6,
   "metadata": {},
   "outputs": [
    {
     "data": {
      "text/plain": [
       "3488"
      ]
     },
     "execution_count": 6,
     "metadata": {},
     "output_type": "execute_result"
    }
   ],
   "source": [
    "def calculate_association_rules(one_itemsets, two_itemsets, n_transactions):\n",
    "    ret = []\n",
    "    for source, source_freq in one_itemsets.items():\n",
    "        for key, group_freq in two_itemsets.items():\n",
    "            if source.issubset(key):\n",
    "                target = key.difference(source)\n",
    "                support = 1.0 * group_freq / n_transactions\n",
    "                confidence = 1.0 * group_freq / source_freq\n",
    "                ret.append((next(iter(source)), next(iter(target)), confidence, support))\n",
    "    return ret\n",
    "rules = calculate_association_rules(frequent_items, frequent_pairs, len(transactions))\n",
    "len(rules)"
   ]
  },
  {
   "cell_type": "markdown",
   "metadata": {},
   "source": [
    "## People also watched"
   ]
  },
  {
   "cell_type": "code",
   "execution_count": 10,
   "metadata": {},
   "outputs": [
    {
     "name": "stdout",
     "output_type": "stream",
     "text": [
      "Jumanji (1995)                             --->  Jurassic Park (1993)                    \n",
      "Seven (a.k.a. Se7en) (1995)                --->  Pulp Fiction (1994)                     \n",
      "Indiana Jones and the Last Crusade (1989   --->  Raiders of the Lost Ark (Indiana Jones a\n",
      "Full Metal Jacket (1987)                   --->  Pulp Fiction (1994)                     \n",
      "Mask, The (1994)                           --->  Jurassic Park (1993)                    \n",
      "Mask, The (1994)                           --->  Forrest Gump (1994)                     \n",
      "Star Wars: Episode V - The Empire Strike   --->  Star Wars: Episode IV - A New Hope (1977\n",
      "Aliens (1986)                              --->  Star Wars: Episode V - The Empire Strike\n",
      "Aliens (1986)                              --->  Alien (1979)                            \n",
      "Lord of the Rings: The Two Towers, The (   --->  Lord of the Rings: The Fellowship of the\n",
      "Léon: The Professional (a.k.a. The Profe   --->  Pulp Fiction (1994)                     \n",
      "Terminator, The (1984)                     --->  Terminator 2: Judgment Day (1991)       \n",
      "Interview with the Vampire: The Vampire    --->  Pulp Fiction (1994)                     \n",
      "Reservoir Dogs (1992)                      --->  Pulp Fiction (1994)                     \n",
      "Godfather: Part II, The (1974)             --->  Godfather, The (1972)                   \n",
      "Ace Ventura: When Nature Calls (1995)      --->  Ace Ventura: Pet Detective (1994)       \n",
      "Home Alone (1990)                          --->  Forrest Gump (1994)                     \n",
      "Home Alone (1990)                          --->  Jurassic Park (1993)                    \n",
      "Firm, The (1993)                           --->  Jurassic Park (1993)                    \n",
      "Firm, The (1993)                           --->  Forrest Gump (1994)                     \n",
      "Firm, The (1993)                           --->  Fugitive, The (1993)                    \n",
      "Beauty and the Beast (1991)                --->  Aladdin (1992)                          \n",
      "Mrs. Doubtfire (1993)                      --->  Jurassic Park (1993)                    \n",
      "Mrs. Doubtfire (1993)                      --->  Forrest Gump (1994)                     \n",
      "Speed (1994)                               --->  Jurassic Park (1993)                    \n",
      "Speed (1994)                               --->  Forrest Gump (1994)                     \n",
      "Lion King, The (1994)                      --->  Forrest Gump (1994)                     \n",
      "Star Wars: Episode VI - Return of the Je   --->  Star Wars: Episode IV - A New Hope (1977\n",
      "Ghost (1990)                               --->  Jurassic Park (1993)                    \n",
      "Ghost (1990)                               --->  Forrest Gump (1994)                     \n",
      "Four Weddings and a Funeral (1994)         --->  Forrest Gump (1994)                     \n",
      "Total Recall (1990)                        --->  Terminator 2: Judgment Day (1991)       \n",
      "Total Recall (1990)                        --->  Matrix, The (1999)                      \n",
      "Ocean's Eleven (2001)                      --->  Matrix, The (1999)                      \n",
      "Sleepless in Seattle (1993)                --->  Forrest Gump (1994)                     \n",
      "Natural Born Killers (1994)                --->  Pulp Fiction (1994)                     \n",
      "Cliffhanger (1993)                         --->  Pulp Fiction (1994)                     \n",
      "Cliffhanger (1993)                         --->  Batman (1989)                           \n",
      "Cliffhanger (1993)                         --->  True Lies (1994)                        \n",
      "Crimson Tide (1995)                        --->  Apollo 13 (1995)                        \n",
      "Crimson Tide (1995)                        --->  Fugitive, The (1993)                    \n",
      "Batman Forever (1995)                      --->  Batman (1989)                           \n",
      "Clear and Present Danger (1994)            --->  Fugitive, The (1993)                    \n",
      "Pretty Woman (1990)                        --->  Forrest Gump (1994)                     \n",
      "Fifth Element, The (1997)                  --->  Matrix, The (1999)                      \n",
      "X-Men (2000)                               --->  Matrix, The (1999)                      \n",
      "Minority Report (2002)                     --->  Matrix, The (1999)                      \n",
      "Goodfellas (1990)                          --->  Pulp Fiction (1994)                     \n",
      "Lord of the Rings: The Return of the Kin   --->  Lord of the Rings: The Two Towers, The (\n",
      "Lord of the Rings: The Return of the Kin   --->  Lord of the Rings: The Fellowship of the\n",
      "Indiana Jones and the Temple of Doom (19   --->  Indiana Jones and the Last Crusade (1989\n",
      "Indiana Jones and the Temple of Doom (19   --->  Raiders of the Lost Ark (Indiana Jones a\n",
      "Spider-Man (2002)                          --->  Matrix, The (1999)                      \n",
      "Taxi Driver (1976)                         --->  Pulp Fiction (1994)                     \n",
      "Trainspotting (1996)                       --->  Pulp Fiction (1994)                     \n",
      "Kill Bill: Vol. 1 (2003)                   --->  Matrix, The (1999)                      \n"
     ]
    }
   ],
   "source": [
    "movies_map = dict(zip(movies.movie_id.tolist(), movies.title.tolist()))\n",
    "for r in rules:\n",
    "    if r[2] > 0.65:\n",
    "        print('{0:40.40s}   --->  {1:40.40s}'.format(movies_map[r[0]], movies_map[r[1]]))"
   ]
  },
  {
   "cell_type": "code",
   "execution_count": null,
   "metadata": {},
   "outputs": [],
   "source": []
  }
 ],
 "metadata": {
  "kernelspec": {
   "display_name": "Python 3",
   "language": "python",
   "name": "python3"
  },
  "language_info": {
   "codemirror_mode": {
    "name": "ipython",
    "version": 3
   },
   "file_extension": ".py",
   "mimetype": "text/x-python",
   "name": "python",
   "nbconvert_exporter": "python",
   "pygments_lexer": "ipython3",
   "version": "3.6.8"
  }
 },
 "nbformat": 4,
 "nbformat_minor": 2
}
