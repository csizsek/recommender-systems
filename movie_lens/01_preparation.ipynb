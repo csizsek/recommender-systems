{
 "cells": [
  {
   "cell_type": "code",
   "execution_count": 1,
   "metadata": {},
   "outputs": [],
   "source": [
    "import datetime\n",
    "import re\n",
    "\n",
    "import matplotlib as mpl\n",
    "import matplotlib.pyplot as plt\n",
    "import numpy as np\n",
    "import pandas as pd\n",
    "import pylab\n",
    "import scipy\n",
    "import seaborn as sns\n",
    "import sklearn\n",
    "from sklearn import *\n",
    "import statsmodels as sm\n",
    "\n",
    "np.random.seed(1337)\n",
    "\n",
    "%matplotlib inline\n",
    "\n",
    "sns.set(font_scale=1.3)\n",
    "sns.set_style('whitegrid')\n",
    "sns.set_palette(sns.color_palette('muted'))"
   ]
  },
  {
   "cell_type": "markdown",
   "metadata": {},
   "source": [
    "## Movies"
   ]
  },
  {
   "cell_type": "code",
   "execution_count": 2,
   "metadata": {},
   "outputs": [
    {
     "name": "stdout",
     "output_type": "stream",
     "text": [
      "<class 'pandas.core.frame.DataFrame'>\n",
      "RangeIndex: 9742 entries, 0 to 9741\n",
      "Data columns (total 3 columns):\n",
      "movieId    9742 non-null int64\n",
      "title      9742 non-null object\n",
      "genres     9742 non-null object\n",
      "dtypes: int64(1), object(2)\n",
      "memory usage: 228.4+ KB\n"
     ]
    }
   ],
   "source": [
    "movies = pd.read_csv('data/ml-latest-small/movies.csv')\n",
    "movies.info()"
   ]
  },
  {
   "cell_type": "code",
   "execution_count": 3,
   "metadata": {},
   "outputs": [],
   "source": [
    "movies.columns = ['movie_id', 'title', 'genres']"
   ]
  },
  {
   "cell_type": "code",
   "execution_count": 4,
   "metadata": {},
   "outputs": [
    {
     "data": {
      "text/html": [
       "<div>\n",
       "<style scoped>\n",
       "    .dataframe tbody tr th:only-of-type {\n",
       "        vertical-align: middle;\n",
       "    }\n",
       "\n",
       "    .dataframe tbody tr th {\n",
       "        vertical-align: top;\n",
       "    }\n",
       "\n",
       "    .dataframe thead th {\n",
       "        text-align: right;\n",
       "    }\n",
       "</style>\n",
       "<table border=\"1\" class=\"dataframe\">\n",
       "  <thead>\n",
       "    <tr style=\"text-align: right;\">\n",
       "      <th></th>\n",
       "      <th>movie_id</th>\n",
       "      <th>title</th>\n",
       "      <th>genres</th>\n",
       "    </tr>\n",
       "  </thead>\n",
       "  <tbody>\n",
       "    <tr>\n",
       "      <th>8755</th>\n",
       "      <td>128099</td>\n",
       "      <td>Jim Jefferies: BARE (2014)</td>\n",
       "      <td>Comedy</td>\n",
       "    </tr>\n",
       "    <tr>\n",
       "      <th>8779</th>\n",
       "      <td>128991</td>\n",
       "      <td>Johnny Express (2014)</td>\n",
       "      <td>Animation|Comedy|Sci-Fi</td>\n",
       "    </tr>\n",
       "    <tr>\n",
       "      <th>9383</th>\n",
       "      <td>163527</td>\n",
       "      <td>Comedy Central Roast of David Hasselhoff (2010)</td>\n",
       "      <td>Comedy</td>\n",
       "    </tr>\n",
       "    <tr>\n",
       "      <th>5200</th>\n",
       "      <td>8464</td>\n",
       "      <td>Super Size Me (2004)</td>\n",
       "      <td>Comedy|Documentary|Drama</td>\n",
       "    </tr>\n",
       "    <tr>\n",
       "      <th>3605</th>\n",
       "      <td>4952</td>\n",
       "      <td>Morons From Outer Space (1985)</td>\n",
       "      <td>Comedy|Sci-Fi</td>\n",
       "    </tr>\n",
       "    <tr>\n",
       "      <th>5290</th>\n",
       "      <td>8753</td>\n",
       "      <td>Unprecedented: The 2000 Presidential Election ...</td>\n",
       "      <td>Documentary</td>\n",
       "    </tr>\n",
       "    <tr>\n",
       "      <th>2724</th>\n",
       "      <td>3658</td>\n",
       "      <td>Quatermass and the Pit (1967)</td>\n",
       "      <td>Horror|Sci-Fi</td>\n",
       "    </tr>\n",
       "    <tr>\n",
       "      <th>205</th>\n",
       "      <td>239</td>\n",
       "      <td>Goofy Movie, A (1995)</td>\n",
       "      <td>Animation|Children|Comedy|Romance</td>\n",
       "    </tr>\n",
       "    <tr>\n",
       "      <th>3815</th>\n",
       "      <td>5345</td>\n",
       "      <td>Triumph of the Spirit (1989)</td>\n",
       "      <td>Drama</td>\n",
       "    </tr>\n",
       "    <tr>\n",
       "      <th>8991</th>\n",
       "      <td>139415</td>\n",
       "      <td>Irrational Man (2015)</td>\n",
       "      <td>Crime|Drama</td>\n",
       "    </tr>\n",
       "  </tbody>\n",
       "</table>\n",
       "</div>"
      ],
      "text/plain": [
       "      movie_id                                              title  \\\n",
       "8755    128099                         Jim Jefferies: BARE (2014)   \n",
       "8779    128991                              Johnny Express (2014)   \n",
       "9383    163527    Comedy Central Roast of David Hasselhoff (2010)   \n",
       "5200      8464                               Super Size Me (2004)   \n",
       "3605      4952                     Morons From Outer Space (1985)   \n",
       "5290      8753  Unprecedented: The 2000 Presidential Election ...   \n",
       "2724      3658                      Quatermass and the Pit (1967)   \n",
       "205        239                              Goofy Movie, A (1995)   \n",
       "3815      5345                       Triumph of the Spirit (1989)   \n",
       "8991    139415                              Irrational Man (2015)   \n",
       "\n",
       "                                 genres  \n",
       "8755                             Comedy  \n",
       "8779            Animation|Comedy|Sci-Fi  \n",
       "9383                             Comedy  \n",
       "5200           Comedy|Documentary|Drama  \n",
       "3605                      Comedy|Sci-Fi  \n",
       "5290                        Documentary  \n",
       "2724                      Horror|Sci-Fi  \n",
       "205   Animation|Children|Comedy|Romance  \n",
       "3815                              Drama  \n",
       "8991                        Crime|Drama  "
      ]
     },
     "execution_count": 4,
     "metadata": {},
     "output_type": "execute_result"
    }
   ],
   "source": [
    "movies.sample(10)"
   ]
  },
  {
   "cell_type": "code",
   "execution_count": 5,
   "metadata": {},
   "outputs": [],
   "source": [
    "year_pattern = re.compile(r'.*\\((\\d+)\\)')\n",
    "def parse_year(title):\n",
    "    try:\n",
    "        return int(year_pattern.match(title).group(1))\n",
    "    except:\n",
    "        return None\n",
    "movies['year'] = movies.title.apply(parse_year)"
   ]
  },
  {
   "cell_type": "code",
   "execution_count": 6,
   "metadata": {},
   "outputs": [
    {
     "data": {
      "image/png": "[encoded data removed]",
      "text/plain": [
       "<Figure size 1008x504 with 1 Axes>"
      ]
     },
     "metadata": {
      "needs_background": "light"
     },
     "output_type": "display_data"
    }
   ],
   "source": [
    "plt.figure(figsize=(14, 7))\n",
    "years = movies.year.dropna().tolist()\n",
    "bins = int(np.max(years) - np.min(years))\n",
    "plt.hist(years, bins=bins)\n",
    "plt.xlabel('Release year')\n",
    "plt.ylabel('Number of movies')\n",
    "plt.show()"
   ]
  },
  {
   "cell_type": "code",
   "execution_count": 7,
   "metadata": {},
   "outputs": [],
   "source": [
    "all_genres = set()\n",
    "def parse_genres(genres):\n",
    "    ret = []\n",
    "    for genre in genres.split('|'):\n",
    "        genre = re.sub('[^a-z]', '', genre.lower())\n",
    "        ret.append(genre)\n",
    "        all_genres.add(genre)\n",
    "    return ret\n",
    "movies['parsed_genres'] = movies.genres.apply(parse_genres)\n",
    "del movies['genres']\n",
    "for genre in all_genres:\n",
    "    movies['genre_{0}'.format(genre)] = movies.parsed_genres.apply(lambda genres: int(genre in genres))"
   ]
  },
  {
   "cell_type": "code",
   "execution_count": 8,
   "metadata": {},
   "outputs": [
    {
     "data": {
      "text/plain": [
       "movie_id                                                        411115845\n",
       "title                   Toy Story (1995)Jumanji (1995)Grumpier Old Men...\n",
       "year                                                          1.94056e+07\n",
       "parsed_genres           [adventure, animation, children, comedy, fanta...\n",
       "genre_scifi                                                           980\n",
       "genre_imax                                                            158\n",
       "genre_western                                                         167\n",
       "genre_comedy                                                         3756\n",
       "genre_fantasy                                                         779\n",
       "genre_action                                                         1828\n",
       "genre_war                                                             382\n",
       "genre_children                                                        664\n",
       "genre_animation                                                       611\n",
       "genre_horror                                                          978\n",
       "genre_nogenreslisted                                                   34\n",
       "genre_documentary                                                     440\n",
       "genre_romance                                                        1596\n",
       "genre_adventure                                                      1263\n",
       "genre_filmnoir                                                         87\n",
       "genre_crime                                                          1199\n",
       "genre_drama                                                          4361\n",
       "genre_thriller                                                       1894\n",
       "genre_mystery                                                         573\n",
       "genre_musical                                                         334\n",
       "dtype: object"
      ]
     },
     "execution_count": 8,
     "metadata": {},
     "output_type": "execute_result"
    }
   ],
   "source": [
    "movies.sum()"
   ]
  },
  {
   "cell_type": "code",
   "execution_count": 9,
   "metadata": {},
   "outputs": [
    {
     "name": "stdout",
     "output_type": "stream",
     "text": [
      "<class 'pandas.core.frame.DataFrame'>\n",
      "RangeIndex: 9742 entries, 0 to 9741\n",
      "Data columns (total 24 columns):\n",
      "movie_id                9742 non-null int64\n",
      "title                   9742 non-null object\n",
      "year                    9729 non-null float64\n",
      "parsed_genres           9742 non-null object\n",
      "genre_scifi             9742 non-null int64\n",
      "genre_imax              9742 non-null int64\n",
      "genre_western           9742 non-null int64\n",
      "genre_comedy            9742 non-null int64\n",
      "genre_fantasy           9742 non-null int64\n",
      "genre_action            9742 non-null int64\n",
      "genre_war               9742 non-null int64\n",
      "genre_children          9742 non-null int64\n",
      "genre_animation         9742 non-null int64\n",
      "genre_horror            9742 non-null int64\n",
      "genre_nogenreslisted    9742 non-null int64\n",
      "genre_documentary       9742 non-null int64\n",
      "genre_romance           9742 non-null int64\n",
      "genre_adventure         9742 non-null int64\n",
      "genre_filmnoir          9742 non-null int64\n",
      "genre_crime             9742 non-null int64\n",
      "genre_drama             9742 non-null int64\n",
      "genre_thriller          9742 non-null int64\n",
      "genre_mystery           9742 non-null int64\n",
      "genre_musical           9742 non-null int64\n",
      "dtypes: float64(1), int64(21), object(2)\n",
      "memory usage: 1.8+ MB\n"
     ]
    }
   ],
   "source": [
    "movies.info()"
   ]
  },
  {
   "cell_type": "markdown",
   "metadata": {},
   "source": [
    "## Tags"
   ]
  },
  {
   "cell_type": "code",
   "execution_count": 10,
   "metadata": {},
   "outputs": [
    {
     "name": "stdout",
     "output_type": "stream",
     "text": [
      "<class 'pandas.core.frame.DataFrame'>\n",
      "RangeIndex: 3683 entries, 0 to 3682\n",
      "Data columns (total 4 columns):\n",
      "userId       3683 non-null int64\n",
      "movieId      3683 non-null int64\n",
      "tag          3683 non-null object\n",
      "timestamp    3683 non-null int64\n",
      "dtypes: int64(3), object(1)\n",
      "memory usage: 115.2+ KB\n"
     ]
    }
   ],
   "source": [
    "tags = pd.read_csv('data/ml-latest-small/tags.csv')\n",
    "tags.info()"
   ]
  },
  {
   "cell_type": "code",
   "execution_count": 11,
   "metadata": {},
   "outputs": [],
   "source": [
    "tags.columns = ['user_id', 'movie_id', 'tag', 'timestamp']"
   ]
  },
  {
   "cell_type": "code",
   "execution_count": 12,
   "metadata": {},
   "outputs": [
    {
     "data": {
      "text/html": [
       "<div>\n",
       "<style scoped>\n",
       "    .dataframe tbody tr th:only-of-type {\n",
       "        vertical-align: middle;\n",
       "    }\n",
       "\n",
       "    .dataframe tbody tr th {\n",
       "        vertical-align: top;\n",
       "    }\n",
       "\n",
       "    .dataframe thead th {\n",
       "        text-align: right;\n",
       "    }\n",
       "</style>\n",
       "<table border=\"1\" class=\"dataframe\">\n",
       "  <thead>\n",
       "    <tr style=\"text-align: right;\">\n",
       "      <th></th>\n",
       "      <th>user_id</th>\n",
       "      <th>movie_id</th>\n",
       "      <th>tag</th>\n",
       "      <th>timestamp</th>\n",
       "    </tr>\n",
       "  </thead>\n",
       "  <tbody>\n",
       "    <tr>\n",
       "      <th>582</th>\n",
       "      <td>318</td>\n",
       "      <td>4708</td>\n",
       "      <td>reciprocal spectator</td>\n",
       "      <td>1416086490</td>\n",
       "    </tr>\n",
       "    <tr>\n",
       "      <th>256</th>\n",
       "      <td>62</td>\n",
       "      <td>99114</td>\n",
       "      <td>Great performances</td>\n",
       "      <td>1526078768</td>\n",
       "    </tr>\n",
       "    <tr>\n",
       "      <th>2350</th>\n",
       "      <td>474</td>\n",
       "      <td>8446</td>\n",
       "      <td>World War II</td>\n",
       "      <td>1137375442</td>\n",
       "    </tr>\n",
       "    <tr>\n",
       "      <th>3134</th>\n",
       "      <td>567</td>\n",
       "      <td>58301</td>\n",
       "      <td>dark humor</td>\n",
       "      <td>1525283360</td>\n",
       "    </tr>\n",
       "    <tr>\n",
       "      <th>2048</th>\n",
       "      <td>474</td>\n",
       "      <td>5971</td>\n",
       "      <td>anime</td>\n",
       "      <td>1138039281</td>\n",
       "    </tr>\n",
       "    <tr>\n",
       "      <th>236</th>\n",
       "      <td>62</td>\n",
       "      <td>87430</td>\n",
       "      <td>space</td>\n",
       "      <td>1525555182</td>\n",
       "    </tr>\n",
       "    <tr>\n",
       "      <th>227</th>\n",
       "      <td>62</td>\n",
       "      <td>71535</td>\n",
       "      <td>Jesse Eisenberg</td>\n",
       "      <td>1529777186</td>\n",
       "    </tr>\n",
       "    <tr>\n",
       "      <th>3089</th>\n",
       "      <td>567</td>\n",
       "      <td>8335</td>\n",
       "      <td>heartbreaking</td>\n",
       "      <td>1525285746</td>\n",
       "    </tr>\n",
       "    <tr>\n",
       "      <th>1889</th>\n",
       "      <td>474</td>\n",
       "      <td>4210</td>\n",
       "      <td>Hannibal Lecter</td>\n",
       "      <td>1139059882</td>\n",
       "    </tr>\n",
       "    <tr>\n",
       "      <th>3372</th>\n",
       "      <td>599</td>\n",
       "      <td>293</td>\n",
       "      <td>Natalie Portman</td>\n",
       "      <td>1498456126</td>\n",
       "    </tr>\n",
       "  </tbody>\n",
       "</table>\n",
       "</div>"
      ],
      "text/plain": [
       "      user_id  movie_id                   tag   timestamp\n",
       "582       318      4708  reciprocal spectator  1416086490\n",
       "256        62     99114    Great performances  1526078768\n",
       "2350      474      8446          World War II  1137375442\n",
       "3134      567     58301            dark humor  1525283360\n",
       "2048      474      5971                 anime  1138039281\n",
       "236        62     87430                 space  1525555182\n",
       "227        62     71535       Jesse Eisenberg  1529777186\n",
       "3089      567      8335         heartbreaking  1525285746\n",
       "1889      474      4210       Hannibal Lecter  1139059882\n",
       "3372      599       293       Natalie Portman  1498456126"
      ]
     },
     "execution_count": 12,
     "metadata": {},
     "output_type": "execute_result"
    }
   ],
   "source": [
    "tags.sample(10)"
   ]
  },
  {
   "cell_type": "markdown",
   "metadata": {},
   "source": [
    "## Ratings"
   ]
  },
  {
   "cell_type": "code",
   "execution_count": 13,
   "metadata": {},
   "outputs": [
    {
     "name": "stdout",
     "output_type": "stream",
     "text": [
      "<class 'pandas.core.frame.DataFrame'>\n",
      "RangeIndex: 100836 entries, 0 to 100835\n",
      "Data columns (total 4 columns):\n",
      "userId       100836 non-null int64\n",
      "movieId      100836 non-null int64\n",
      "rating       100836 non-null float64\n",
      "timestamp    100836 non-null int64\n",
      "dtypes: float64(1), int64(3)\n",
      "memory usage: 3.1 MB\n"
     ]
    }
   ],
   "source": [
    "ratings = pd.read_csv('data/ml-latest-small/ratings.csv')\n",
    "ratings.info()"
   ]
  },
  {
   "cell_type": "code",
   "execution_count": 14,
   "metadata": {},
   "outputs": [],
   "source": [
    "ratings.columns = ['user_id', 'movie_id', 'rating', 'timestamp']"
   ]
  },
  {
   "cell_type": "code",
   "execution_count": 15,
   "metadata": {},
   "outputs": [
    {
     "data": {
      "text/html": [
       "<div>\n",
       "<style scoped>\n",
       "    .dataframe tbody tr th:only-of-type {\n",
       "        vertical-align: middle;\n",
       "    }\n",
       "\n",
       "    .dataframe tbody tr th {\n",
       "        vertical-align: top;\n",
       "    }\n",
       "\n",
       "    .dataframe thead th {\n",
       "        text-align: right;\n",
       "    }\n",
       "</style>\n",
       "<table border=\"1\" class=\"dataframe\">\n",
       "  <thead>\n",
       "    <tr style=\"text-align: right;\">\n",
       "      <th></th>\n",
       "      <th>user_id</th>\n",
       "      <th>movie_id</th>\n",
       "      <th>rating</th>\n",
       "      <th>timestamp</th>\n",
       "    </tr>\n",
       "  </thead>\n",
       "  <tbody>\n",
       "    <tr>\n",
       "      <th>96855</th>\n",
       "      <td>603</td>\n",
       "      <td>3246</td>\n",
       "      <td>4.0</td>\n",
       "      <td>953927375</td>\n",
       "    </tr>\n",
       "    <tr>\n",
       "      <th>11992</th>\n",
       "      <td>73</td>\n",
       "      <td>112556</td>\n",
       "      <td>4.0</td>\n",
       "      <td>1464197220</td>\n",
       "    </tr>\n",
       "    <tr>\n",
       "      <th>45740</th>\n",
       "      <td>304</td>\n",
       "      <td>60</td>\n",
       "      <td>1.0</td>\n",
       "      <td>891174024</td>\n",
       "    </tr>\n",
       "    <tr>\n",
       "      <th>31898</th>\n",
       "      <td>219</td>\n",
       "      <td>7319</td>\n",
       "      <td>1.5</td>\n",
       "      <td>1198783202</td>\n",
       "    </tr>\n",
       "    <tr>\n",
       "      <th>58201</th>\n",
       "      <td>381</td>\n",
       "      <td>1722</td>\n",
       "      <td>3.5</td>\n",
       "      <td>1167542247</td>\n",
       "    </tr>\n",
       "    <tr>\n",
       "      <th>18761</th>\n",
       "      <td>120</td>\n",
       "      <td>733</td>\n",
       "      <td>4.0</td>\n",
       "      <td>860070029</td>\n",
       "    </tr>\n",
       "    <tr>\n",
       "      <th>76871</th>\n",
       "      <td>480</td>\n",
       "      <td>8641</td>\n",
       "      <td>4.5</td>\n",
       "      <td>1179164266</td>\n",
       "    </tr>\n",
       "    <tr>\n",
       "      <th>96087</th>\n",
       "      <td>602</td>\n",
       "      <td>590</td>\n",
       "      <td>3.0</td>\n",
       "      <td>840875508</td>\n",
       "    </tr>\n",
       "    <tr>\n",
       "      <th>26546</th>\n",
       "      <td>182</td>\n",
       "      <td>2890</td>\n",
       "      <td>3.5</td>\n",
       "      <td>1054780332</td>\n",
       "    </tr>\n",
       "    <tr>\n",
       "      <th>25968</th>\n",
       "      <td>180</td>\n",
       "      <td>2761</td>\n",
       "      <td>4.0</td>\n",
       "      <td>1270237599</td>\n",
       "    </tr>\n",
       "  </tbody>\n",
       "</table>\n",
       "</div>"
      ],
      "text/plain": [
       "       user_id  movie_id  rating   timestamp\n",
       "96855      603      3246     4.0   953927375\n",
       "11992       73    112556     4.0  1464197220\n",
       "45740      304        60     1.0   891174024\n",
       "31898      219      7319     1.5  1198783202\n",
       "58201      381      1722     3.5  1167542247\n",
       "18761      120       733     4.0   860070029\n",
       "76871      480      8641     4.5  1179164266\n",
       "96087      602       590     3.0   840875508\n",
       "26546      182      2890     3.5  1054780332\n",
       "25968      180      2761     4.0  1270237599"
      ]
     },
     "execution_count": 15,
     "metadata": {},
     "output_type": "execute_result"
    }
   ],
   "source": [
    "ratings.sample(10)"
   ]
  },
  {
   "cell_type": "code",
   "execution_count": 16,
   "metadata": {},
   "outputs": [
    {
     "name": "stdout",
     "output_type": "stream",
     "text": [
      "count    100836.000000\n",
      "mean          3.501557\n",
      "std           1.042529\n",
      "min           0.500000\n",
      "25%           3.000000\n",
      "50%           3.500000\n",
      "75%           4.000000\n",
      "max           5.000000\n",
      "Name: rating, dtype: float64\n"
     ]
    },
    {
     "data": {
      "image/png": "[encoded data removed]",
      "text/plain": [
       "<Figure size 504x504 with 1 Axes>"
      ]
     },
     "metadata": {
      "needs_background": "light"
     },
     "output_type": "display_data"
    }
   ],
   "source": [
    "print(ratings.rating.describe())\n",
    "plt.figure(figsize=(7, 7))\n",
    "plt.hist(ratings.rating, bins=9)\n",
    "plt.xlabel('Rating')\n",
    "plt.ylabel('Number of ratings')\n",
    "plt.show()"
   ]
  },
  {
   "cell_type": "code",
   "execution_count": 17,
   "metadata": {},
   "outputs": [
    {
     "name": "stdout",
     "output_type": "stream",
     "text": [
      "count    9724.000000\n",
      "mean       10.369807\n",
      "std        22.401005\n",
      "min         1.000000\n",
      "25%         1.000000\n",
      "50%         3.000000\n",
      "75%         9.000000\n",
      "max       329.000000\n",
      "Name: movie_id, dtype: float64\n"
     ]
    },
    {
     "data": {
      "image/png": "[encoded data removed]",
      "text/plain": [
       "<Figure size 1008x504 with 1 Axes>"
      ]
     },
     "metadata": {
      "needs_background": "light"
     },
     "output_type": "display_data"
    }
   ],
   "source": [
    "n_ratings = ratings.groupby(['movie_id']).movie_id.count()\n",
    "print(n_ratings.describe())\n",
    "plt.figure(figsize=(14, 7))\n",
    "plt.hist(n_ratings, bins=100)\n",
    "plt.xlabel('Number of ratings')\n",
    "plt.ylabel('Number of movies')\n",
    "plt.show()"
   ]
  },
  {
   "cell_type": "code",
   "execution_count": 18,
   "metadata": {},
   "outputs": [
    {
     "name": "stdout",
     "output_type": "stream",
     "text": [
      "count     610.000000\n",
      "mean      165.304918\n",
      "std       269.480584\n",
      "min        20.000000\n",
      "25%        35.000000\n",
      "50%        70.500000\n",
      "75%       168.000000\n",
      "max      2698.000000\n",
      "Name: movie_id, dtype: float64\n"
     ]
    },
    {
     "data": {
      "image/png": "[encoded data removed]",
      "text/plain": [
       "<Figure size 1008x504 with 1 Axes>"
      ]
     },
     "metadata": {
      "needs_background": "light"
     },
     "output_type": "display_data"
    }
   ],
   "source": [
    "n_ratings = ratings.groupby(['user_id']).movie_id.count()\n",
    "print(n_ratings.describe())\n",
    "plt.figure(figsize=(14, 7))\n",
    "plt.hist(n_ratings, bins=100)\n",
    "plt.xlabel('Number of ratings')\n",
    "plt.ylabel('Number of users')\n",
    "plt.show()"
   ]
  },
  {
   "cell_type": "code",
   "execution_count": 19,
   "metadata": {},
   "outputs": [],
   "source": [
    "ratings['year'] = ratings.timestamp.apply(lambda ts: datetime.datetime.fromtimestamp(ts).year)"
   ]
  },
  {
   "cell_type": "code",
   "execution_count": 20,
   "metadata": {},
   "outputs": [
    {
     "data": {
      "image/png": "[encoded data removed]",
      "text/plain": [
       "<Figure size 1008x504 with 1 Axes>"
      ]
     },
     "metadata": {
      "needs_background": "light"
     },
     "output_type": "display_data"
    }
   ],
   "source": [
    "plt.figure(figsize=(14, 7))\n",
    "years = ratings.year.dropna().tolist()\n",
    "bins = int(np.max(years) - np.min(years))\n",
    "plt.hist(years, bins=bins)\n",
    "plt.xlabel('Rating year')\n",
    "plt.ylabel('Number of ratings')\n",
    "plt.show()"
   ]
  },
  {
   "cell_type": "code",
   "execution_count": 21,
   "metadata": {},
   "outputs": [
    {
     "name": "stdout",
     "output_type": "stream",
     "text": [
      "<class 'pandas.core.frame.DataFrame'>\n",
      "RangeIndex: 100836 entries, 0 to 100835\n",
      "Data columns (total 5 columns):\n",
      "user_id      100836 non-null int64\n",
      "movie_id     100836 non-null int64\n",
      "rating       100836 non-null float64\n",
      "timestamp    100836 non-null int64\n",
      "year         100836 non-null int64\n",
      "dtypes: float64(1), int64(4)\n",
      "memory usage: 3.8 MB\n"
     ]
    }
   ],
   "source": [
    "ratings.info()"
   ]
  },
  {
   "cell_type": "code",
   "execution_count": 22,
   "metadata": {},
   "outputs": [],
   "source": [
    "movies.to_csv('data/movies_clean.csv', index=False)\n",
    "ratings.to_csv('data/ratings_clean.csv', index=False)"
   ]
  },
  {
   "cell_type": "code",
   "execution_count": 23,
   "metadata": {},
   "outputs": [],
   "source": [
    "ratings = ratings.sample(frac=1.0)\n",
    "train_lim = int(0.8 * len(ratings))\n",
    "ratings[:train_lim].to_csv('data/ratings_train.csv', index=False)\n",
    "ratings[train_lim:].to_csv('data/ratings_test.csv', index=False)"
   ]
  }
 ],
 "metadata": {
  "kernelspec": {
   "display_name": "Python 3",
   "language": "python",
   "name": "python3"
  },
  "language_info": {
   "codemirror_mode": {
    "name": "ipython",
    "version": 3
   },
   "file_extension": ".py",
   "mimetype": "text/x-python",
   "name": "python",
   "nbconvert_exporter": "python",
   "pygments_lexer": "ipython3",
   "version": "3.6.8"
  }
 },
 "nbformat": 4,
 "nbformat_minor": 2
}
