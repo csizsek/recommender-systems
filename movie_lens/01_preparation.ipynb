{
 "cells": [
  {
   "cell_type": "code",
   "execution_count": 1,
   "metadata": {},
   "outputs": [],
   "source": [
    "import datetime\n",
    "import re\n",
    "\n",
    "import matplotlib as mpl\n",
    "import matplotlib.pyplot as plt\n",
    "import numpy as np\n",
    "import pandas as pd\n",
    "import pylab\n",
    "import scipy\n",
    "import seaborn as sns\n",
    "import sklearn\n",
    "from sklearn import *\n",
    "import statsmodels as sm\n",
    "\n",
    "np.random.seed(1337)\n",
    "\n",
    "%matplotlib inline\n",
    "\n",
    "sns.set(font_scale=1.3)\n",
    "sns.set_style('whitegrid')\n",
    "sns.set_palette(sns.color_palette('muted'))\n",
    "\n",
    "pd.options.display.max_colwidth = 30\n",
    "pd.options.display.float_format = '{:,.3f}'.format"
   ]
  },
  {
   "cell_type": "markdown",
   "metadata": {},
   "source": [
    "## Movies"
   ]
  },
  {
   "cell_type": "code",
   "execution_count": 2,
   "metadata": {},
   "outputs": [
    {
     "name": "stdout",
     "output_type": "stream",
     "text": [
      "<class 'pandas.core.frame.DataFrame'>\n",
      "RangeIndex: 27278 entries, 0 to 27277\n",
      "Data columns (total 3 columns):\n",
      "movieId    27278 non-null int64\n",
      "title      27278 non-null object\n",
      "genres     27278 non-null object\n",
      "dtypes: int64(1), object(2)\n",
      "memory usage: 639.4+ KB\n"
     ]
    }
   ],
   "source": [
    "movies = pd.read_csv('data/ml-20m/movies.csv')\n",
    "movies.info()"
   ]
  },
  {
   "cell_type": "code",
   "execution_count": 3,
   "metadata": {},
   "outputs": [],
   "source": [
    "movies.columns = ['movie_id', 'title', 'genres']"
   ]
  },
  {
   "cell_type": "code",
   "execution_count": 4,
   "metadata": {},
   "outputs": [
    {
     "data": {
      "text/html": [
       "<div>\n",
       "<style scoped>\n",
       "    .dataframe tbody tr th:only-of-type {\n",
       "        vertical-align: middle;\n",
       "    }\n",
       "\n",
       "    .dataframe tbody tr th {\n",
       "        vertical-align: top;\n",
       "    }\n",
       "\n",
       "    .dataframe thead th {\n",
       "        text-align: right;\n",
       "    }\n",
       "</style>\n",
       "<table border=\"1\" class=\"dataframe\">\n",
       "  <thead>\n",
       "    <tr style=\"text-align: right;\">\n",
       "      <th></th>\n",
       "      <th>movie_id</th>\n",
       "      <th>title</th>\n",
       "      <th>genres</th>\n",
       "    </tr>\n",
       "  </thead>\n",
       "  <tbody>\n",
       "    <tr>\n",
       "      <th>1877</th>\n",
       "      <td>1961</td>\n",
       "      <td>Rain Man (1988)</td>\n",
       "      <td>Drama</td>\n",
       "    </tr>\n",
       "    <tr>\n",
       "      <th>25233</th>\n",
       "      <td>119051</td>\n",
       "      <td>Crime at the Chinese Resta...</td>\n",
       "      <td>Comedy|Mystery|Thriller</td>\n",
       "    </tr>\n",
       "    <tr>\n",
       "      <th>9187</th>\n",
       "      <td>27074</td>\n",
       "      <td>Brave New World (1998)</td>\n",
       "      <td>Sci-Fi</td>\n",
       "    </tr>\n",
       "    <tr>\n",
       "      <th>22618</th>\n",
       "      <td>108332</td>\n",
       "      <td>Mystery of the Yellow Room...</td>\n",
       "      <td>Comedy|Crime|Mystery</td>\n",
       "    </tr>\n",
       "    <tr>\n",
       "      <th>25252</th>\n",
       "      <td>119139</td>\n",
       "      <td>Ascension (2014)</td>\n",
       "      <td>Drama|Sci-Fi</td>\n",
       "    </tr>\n",
       "    <tr>\n",
       "      <th>25382</th>\n",
       "      <td>119948</td>\n",
       "      <td>Let's Kill Ward's Wife (2014)</td>\n",
       "      <td>Comedy</td>\n",
       "    </tr>\n",
       "    <tr>\n",
       "      <th>23159</th>\n",
       "      <td>110366</td>\n",
       "      <td>Jean-Michel Basquiat: The ...</td>\n",
       "      <td>Documentary</td>\n",
       "    </tr>\n",
       "    <tr>\n",
       "      <th>6017</th>\n",
       "      <td>6116</td>\n",
       "      <td>Pirate Movie, The (1982)</td>\n",
       "      <td>Adventure|Comedy|Musical</td>\n",
       "    </tr>\n",
       "    <tr>\n",
       "      <th>24133</th>\n",
       "      <td>114417</td>\n",
       "      <td>Average Little Man, An (Un...</td>\n",
       "      <td>Drama</td>\n",
       "    </tr>\n",
       "    <tr>\n",
       "      <th>7139</th>\n",
       "      <td>7251</td>\n",
       "      <td>Where the Day Takes You (1...</td>\n",
       "      <td>Drama</td>\n",
       "    </tr>\n",
       "  </tbody>\n",
       "</table>\n",
       "</div>"
      ],
      "text/plain": [
       "       movie_id                          title                    genres\n",
       "1877       1961                Rain Man (1988)                     Drama\n",
       "25233    119051  Crime at the Chinese Resta...   Comedy|Mystery|Thriller\n",
       "9187      27074         Brave New World (1998)                    Sci-Fi\n",
       "22618    108332  Mystery of the Yellow Room...      Comedy|Crime|Mystery\n",
       "25252    119139               Ascension (2014)              Drama|Sci-Fi\n",
       "25382    119948  Let's Kill Ward's Wife (2014)                    Comedy\n",
       "23159    110366  Jean-Michel Basquiat: The ...               Documentary\n",
       "6017       6116       Pirate Movie, The (1982)  Adventure|Comedy|Musical\n",
       "24133    114417  Average Little Man, An (Un...                     Drama\n",
       "7139       7251  Where the Day Takes You (1...                     Drama"
      ]
     },
     "execution_count": 4,
     "metadata": {},
     "output_type": "execute_result"
    }
   ],
   "source": [
    "movies.sample(10)"
   ]
  },
  {
   "cell_type": "code",
   "execution_count": 5,
   "metadata": {},
   "outputs": [],
   "source": [
    "year_pattern = re.compile(r'.*\\((\\d+)\\)')\n",
    "def parse_year(title):\n",
    "    try:\n",
    "        return int(year_pattern.match(title).group(1))\n",
    "    except:\n",
    "        return None\n",
    "movies['year'] = movies.title.apply(parse_year)"
   ]
  },
  {
   "cell_type": "code",
   "execution_count": 6,
   "metadata": {},
   "outputs": [
    {
     "data": {
      "image/png": "[encoded data removed]",
      "text/plain": [
       "<Figure size 1008x504 with 1 Axes>"
      ]
     },
     "metadata": {
      "needs_background": "light"
     },
     "output_type": "display_data"
    }
   ],
   "source": [
    "plt.figure(figsize=(14, 7))\n",
    "years = movies.year.dropna().tolist()\n",
    "bins = int(np.max(years) - np.min(years))\n",
    "plt.hist(years, bins=bins)\n",
    "plt.xlabel('Release year')\n",
    "plt.ylabel('Number of movies')\n",
    "plt.show()"
   ]
  },
  {
   "cell_type": "code",
   "execution_count": 7,
   "metadata": {},
   "outputs": [],
   "source": [
    "all_genres = set()\n",
    "def parse_genres(genres):\n",
    "    ret = []\n",
    "    for genre in genres.split('|'):\n",
    "        genre = re.sub('[^a-z]', '', genre.lower())\n",
    "        ret.append(genre)\n",
    "        all_genres.add(genre)\n",
    "    return ret\n",
    "movies['parsed_genres'] = movies.genres.apply(parse_genres)\n",
    "del movies['genres']\n",
    "for genre in all_genres:\n",
    "    movies['genre_{0}'.format(genre)] = movies.parsed_genres.apply(lambda genres: int(genre in genres))"
   ]
  },
  {
   "cell_type": "code",
   "execution_count": 8,
   "metadata": {},
   "outputs": [
    {
     "data": {
      "text/plain": [
       "movie_id                                   1632737799\n",
       "title                   Toy Story (1995)Jumanji (1...\n",
       "year                                   54,222,311.000\n",
       "parsed_genres           [adventure, animation, chi...\n",
       "genre_comedy                                     8374\n",
       "genre_action                                     3520\n",
       "genre_children                                   1139\n",
       "genre_horror                                     2611\n",
       "genre_musical                                    1036\n",
       "genre_fantasy                                    1412\n",
       "genre_scifi                                      1743\n",
       "genre_adventure                                  2329\n",
       "genre_crime                                      2939\n",
       "genre_drama                                     13344\n",
       "genre_thriller                                   4178\n",
       "genre_mystery                                    1514\n",
       "genre_western                                     676\n",
       "genre_documentary                                2471\n",
       "genre_war                                        1194\n",
       "genre_filmnoir                                    330\n",
       "genre_romance                                    4127\n",
       "genre_nogenreslisted                              246\n",
       "genre_imax                                        196\n",
       "genre_animation                                  1027\n",
       "dtype: object"
      ]
     },
     "execution_count": 8,
     "metadata": {},
     "output_type": "execute_result"
    }
   ],
   "source": [
    "movies.sum()"
   ]
  },
  {
   "cell_type": "code",
   "execution_count": 9,
   "metadata": {},
   "outputs": [
    {
     "name": "stdout",
     "output_type": "stream",
     "text": [
      "<class 'pandas.core.frame.DataFrame'>\n",
      "RangeIndex: 27278 entries, 0 to 27277\n",
      "Data columns (total 24 columns):\n",
      "movie_id                27278 non-null int64\n",
      "title                   27278 non-null object\n",
      "year                    27256 non-null float64\n",
      "parsed_genres           27278 non-null object\n",
      "genre_comedy            27278 non-null int64\n",
      "genre_action            27278 non-null int64\n",
      "genre_children          27278 non-null int64\n",
      "genre_horror            27278 non-null int64\n",
      "genre_musical           27278 non-null int64\n",
      "genre_fantasy           27278 non-null int64\n",
      "genre_scifi             27278 non-null int64\n",
      "genre_adventure         27278 non-null int64\n",
      "genre_crime             27278 non-null int64\n",
      "genre_drama             27278 non-null int64\n",
      "genre_thriller          27278 non-null int64\n",
      "genre_mystery           27278 non-null int64\n",
      "genre_western           27278 non-null int64\n",
      "genre_documentary       27278 non-null int64\n",
      "genre_war               27278 non-null int64\n",
      "genre_filmnoir          27278 non-null int64\n",
      "genre_romance           27278 non-null int64\n",
      "genre_nogenreslisted    27278 non-null int64\n",
      "genre_imax              27278 non-null int64\n",
      "genre_animation         27278 non-null int64\n",
      "dtypes: float64(1), int64(21), object(2)\n",
      "memory usage: 5.0+ MB\n"
     ]
    }
   ],
   "source": [
    "movies.info()"
   ]
  },
  {
   "cell_type": "markdown",
   "metadata": {},
   "source": [
    "## Tags"
   ]
  },
  {
   "cell_type": "code",
   "execution_count": 10,
   "metadata": {},
   "outputs": [
    {
     "name": "stdout",
     "output_type": "stream",
     "text": [
      "<class 'pandas.core.frame.DataFrame'>\n",
      "RangeIndex: 465564 entries, 0 to 465563\n",
      "Data columns (total 4 columns):\n",
      "userId       465564 non-null int64\n",
      "movieId      465564 non-null int64\n",
      "tag          465548 non-null object\n",
      "timestamp    465564 non-null int64\n",
      "dtypes: int64(3), object(1)\n",
      "memory usage: 14.2+ MB\n"
     ]
    }
   ],
   "source": [
    "tags = pd.read_csv('data/ml-20m/tags.csv')\n",
    "tags.info()"
   ]
  },
  {
   "cell_type": "code",
   "execution_count": 11,
   "metadata": {},
   "outputs": [],
   "source": [
    "tags.columns = ['user_id', 'movie_id', 'tag', 'timestamp']"
   ]
  },
  {
   "cell_type": "code",
   "execution_count": 12,
   "metadata": {},
   "outputs": [
    {
     "data": {
      "text/html": [
       "<div>\n",
       "<style scoped>\n",
       "    .dataframe tbody tr th:only-of-type {\n",
       "        vertical-align: middle;\n",
       "    }\n",
       "\n",
       "    .dataframe tbody tr th {\n",
       "        vertical-align: top;\n",
       "    }\n",
       "\n",
       "    .dataframe thead th {\n",
       "        text-align: right;\n",
       "    }\n",
       "</style>\n",
       "<table border=\"1\" class=\"dataframe\">\n",
       "  <thead>\n",
       "    <tr style=\"text-align: right;\">\n",
       "      <th></th>\n",
       "      <th>user_id</th>\n",
       "      <th>movie_id</th>\n",
       "      <th>tag</th>\n",
       "      <th>timestamp</th>\n",
       "    </tr>\n",
       "  </thead>\n",
       "  <tbody>\n",
       "    <tr>\n",
       "      <th>56826</th>\n",
       "      <td>11248</td>\n",
       "      <td>97752</td>\n",
       "      <td>multiple storylines</td>\n",
       "      <td>1355438408</td>\n",
       "    </tr>\n",
       "    <tr>\n",
       "      <th>442181</th>\n",
       "      <td>130827</td>\n",
       "      <td>38824</td>\n",
       "      <td>traumatic childhood</td>\n",
       "      <td>1227626017</td>\n",
       "    </tr>\n",
       "    <tr>\n",
       "      <th>36710</th>\n",
       "      <td>9815</td>\n",
       "      <td>1343</td>\n",
       "      <td>serial killer</td>\n",
       "      <td>1400935071</td>\n",
       "    </tr>\n",
       "    <tr>\n",
       "      <th>114935</th>\n",
       "      <td>28599</td>\n",
       "      <td>94150</td>\n",
       "      <td>based on a true story</td>\n",
       "      <td>1394668108</td>\n",
       "    </tr>\n",
       "    <tr>\n",
       "      <th>329673</th>\n",
       "      <td>97198</td>\n",
       "      <td>3527</td>\n",
       "      <td>classic</td>\n",
       "      <td>1311157805</td>\n",
       "    </tr>\n",
       "    <tr>\n",
       "      <th>393226</th>\n",
       "      <td>122523</td>\n",
       "      <td>26082</td>\n",
       "      <td>realistic action</td>\n",
       "      <td>1420576822</td>\n",
       "    </tr>\n",
       "    <tr>\n",
       "      <th>86252</th>\n",
       "      <td>22074</td>\n",
       "      <td>48780</td>\n",
       "      <td>Scarlett Johansson</td>\n",
       "      <td>1368850974</td>\n",
       "    </tr>\n",
       "    <tr>\n",
       "      <th>53707</th>\n",
       "      <td>11081</td>\n",
       "      <td>8507</td>\n",
       "      <td>TREACHEROUS SPOUSES</td>\n",
       "      <td>1172502842</td>\n",
       "    </tr>\n",
       "    <tr>\n",
       "      <th>58579</th>\n",
       "      <td>12271</td>\n",
       "      <td>4621</td>\n",
       "      <td>John Travolta</td>\n",
       "      <td>1165704878</td>\n",
       "    </tr>\n",
       "    <tr>\n",
       "      <th>138307</th>\n",
       "      <td>38615</td>\n",
       "      <td>1206</td>\n",
       "      <td>Nudity (Topless - Brief)</td>\n",
       "      <td>1205616101</td>\n",
       "    </tr>\n",
       "  </tbody>\n",
       "</table>\n",
       "</div>"
      ],
      "text/plain": [
       "        user_id  movie_id                       tag   timestamp\n",
       "56826     11248     97752       multiple storylines  1355438408\n",
       "442181   130827     38824       traumatic childhood  1227626017\n",
       "36710      9815      1343             serial killer  1400935071\n",
       "114935    28599     94150     based on a true story  1394668108\n",
       "329673    97198      3527                   classic  1311157805\n",
       "393226   122523     26082          realistic action  1420576822\n",
       "86252     22074     48780        Scarlett Johansson  1368850974\n",
       "53707     11081      8507       TREACHEROUS SPOUSES  1172502842\n",
       "58579     12271      4621             John Travolta  1165704878\n",
       "138307    38615      1206  Nudity (Topless - Brief)  1205616101"
      ]
     },
     "execution_count": 12,
     "metadata": {},
     "output_type": "execute_result"
    }
   ],
   "source": [
    "tags.sample(10)"
   ]
  },
  {
   "cell_type": "markdown",
   "metadata": {},
   "source": [
    "## Ratings"
   ]
  },
  {
   "cell_type": "code",
   "execution_count": 13,
   "metadata": {},
   "outputs": [
    {
     "name": "stdout",
     "output_type": "stream",
     "text": [
      "<class 'pandas.core.frame.DataFrame'>\n",
      "RangeIndex: 20000263 entries, 0 to 20000262\n",
      "Data columns (total 4 columns):\n",
      "userId       int64\n",
      "movieId      int64\n",
      "rating       float64\n",
      "timestamp    int64\n",
      "dtypes: float64(1), int64(3)\n",
      "memory usage: 610.4 MB\n"
     ]
    }
   ],
   "source": [
    "ratings = pd.read_csv('data/ml-20m/ratings.csv')\n",
    "ratings.info()"
   ]
  },
  {
   "cell_type": "code",
   "execution_count": null,
   "metadata": {},
   "outputs": [],
   "source": [
    "ratings.columns = ['user_id', 'movie_id', 'rating', 'timestamp']"
   ]
  },
  {
   "cell_type": "code",
   "execution_count": null,
   "metadata": {},
   "outputs": [
    {
     "data": {
      "text/html": [
       "<div>\n",
       "<style scoped>\n",
       "    .dataframe tbody tr th:only-of-type {\n",
       "        vertical-align: middle;\n",
       "    }\n",
       "\n",
       "    .dataframe tbody tr th {\n",
       "        vertical-align: top;\n",
       "    }\n",
       "\n",
       "    .dataframe thead th {\n",
       "        text-align: right;\n",
       "    }\n",
       "</style>\n",
       "<table border=\"1\" class=\"dataframe\">\n",
       "  <thead>\n",
       "    <tr style=\"text-align: right;\">\n",
       "      <th></th>\n",
       "      <th>user_id</th>\n",
       "      <th>movie_id</th>\n",
       "      <th>rating</th>\n",
       "      <th>timestamp</th>\n",
       "    </tr>\n",
       "  </thead>\n",
       "  <tbody>\n",
       "    <tr>\n",
       "      <th>5811064</th>\n",
       "      <td>40008</td>\n",
       "      <td>2959</td>\n",
       "      <td>4.000</td>\n",
       "      <td>1231036229</td>\n",
       "    </tr>\n",
       "    <tr>\n",
       "      <th>2895131</th>\n",
       "      <td>19630</td>\n",
       "      <td>1472</td>\n",
       "      <td>3.000</td>\n",
       "      <td>945068532</td>\n",
       "    </tr>\n",
       "    <tr>\n",
       "      <th>15624435</th>\n",
       "      <td>108063</td>\n",
       "      <td>4235</td>\n",
       "      <td>5.000</td>\n",
       "      <td>1170622829</td>\n",
       "    </tr>\n",
       "    <tr>\n",
       "      <th>14179476</th>\n",
       "      <td>97891</td>\n",
       "      <td>292</td>\n",
       "      <td>3.000</td>\n",
       "      <td>1233752577</td>\n",
       "    </tr>\n",
       "    <tr>\n",
       "      <th>14113568</th>\n",
       "      <td>97491</td>\n",
       "      <td>594</td>\n",
       "      <td>3.000</td>\n",
       "      <td>1102513683</td>\n",
       "    </tr>\n",
       "    <tr>\n",
       "      <th>6937387</th>\n",
       "      <td>47816</td>\n",
       "      <td>708</td>\n",
       "      <td>3.500</td>\n",
       "      <td>1096917985</td>\n",
       "    </tr>\n",
       "    <tr>\n",
       "      <th>4668987</th>\n",
       "      <td>32053</td>\n",
       "      <td>3827</td>\n",
       "      <td>3.000</td>\n",
       "      <td>1035986204</td>\n",
       "    </tr>\n",
       "    <tr>\n",
       "      <th>2568462</th>\n",
       "      <td>17404</td>\n",
       "      <td>1909</td>\n",
       "      <td>3.000</td>\n",
       "      <td>1249324050</td>\n",
       "    </tr>\n",
       "    <tr>\n",
       "      <th>18110383</th>\n",
       "      <td>125268</td>\n",
       "      <td>2734</td>\n",
       "      <td>1.000</td>\n",
       "      <td>943456957</td>\n",
       "    </tr>\n",
       "    <tr>\n",
       "      <th>14339942</th>\n",
       "      <td>99067</td>\n",
       "      <td>3111</td>\n",
       "      <td>3.000</td>\n",
       "      <td>986016633</td>\n",
       "    </tr>\n",
       "  </tbody>\n",
       "</table>\n",
       "</div>"
      ],
      "text/plain": [
       "          user_id  movie_id  rating   timestamp\n",
       "5811064     40008      2959   4.000  1231036229\n",
       "2895131     19630      1472   3.000   945068532\n",
       "15624435   108063      4235   5.000  1170622829\n",
       "14179476    97891       292   3.000  1233752577\n",
       "14113568    97491       594   3.000  1102513683\n",
       "6937387     47816       708   3.500  1096917985\n",
       "4668987     32053      3827   3.000  1035986204\n",
       "2568462     17404      1909   3.000  1249324050\n",
       "18110383   125268      2734   1.000   943456957\n",
       "14339942    99067      3111   3.000   986016633"
      ]
     },
     "execution_count": 15,
     "metadata": {},
     "output_type": "execute_result"
    }
   ],
   "source": [
    "ratings.sample(10)"
   ]
  },
  {
   "cell_type": "code",
   "execution_count": null,
   "metadata": {},
   "outputs": [
    {
     "name": "stdout",
     "output_type": "stream",
     "text": [
      "count   20,000,263.000\n",
      "mean             3.526\n",
      "std              1.052\n",
      "min              0.500\n",
      "25%              3.000\n",
      "50%              3.500\n",
      "75%              4.000\n",
      "max              5.000\n",
      "Name: rating, dtype: float64\n"
     ]
    },
    {
     "data": {
      "image/png": "[encoded data removed]",
      "text/plain": [
       "<Figure size 360x360 with 1 Axes>"
      ]
     },
     "metadata": {
      "needs_background": "light"
     },
     "output_type": "display_data"
    }
   ],
   "source": [
    "print(ratings.rating.describe())\n",
    "plt.figure(figsize=(5, 5))\n",
    "plt.hist(ratings.rating, bins=9, align='right')\n",
    "plt.xlabel('Rating')\n",
    "plt.ylabel('Number of ratings')\n",
    "plt.show()"
   ]
  },
  {
   "cell_type": "code",
   "execution_count": null,
   "metadata": {},
   "outputs": [
    {
     "name": "stdout",
     "output_type": "stream",
     "text": [
      "count   26,744.000\n",
      "mean       747.841\n",
      "std      3,085.818\n",
      "min          1.000\n",
      "25%          3.000\n",
      "50%         18.000\n",
      "75%        205.000\n",
      "max     67,310.000\n",
      "Name: movie_id, dtype: float64\n"
     ]
    },
    {
     "data": {
      "image/png": "[encoded data removed]",
      "text/plain": [
       "<Figure size 1440x720 with 1 Axes>"
      ]
     },
     "metadata": {
      "needs_background": "light"
     },
     "output_type": "display_data"
    }
   ],
   "source": [
    "n_ratings = ratings.groupby(['movie_id']).movie_id.count()\n",
    "print(n_ratings.describe())\n",
    "plt.figure(figsize=(20, 10))\n",
    "plt.hist(n_ratings, bins=100)\n",
    "plt.yscale('log')\n",
    "plt.xlabel('Number of ratings')\n",
    "plt.ylabel('Number of movies')\n",
    "plt.show()"
   ]
  },
  {
   "cell_type": "code",
   "execution_count": null,
   "metadata": {},
   "outputs": [
    {
     "name": "stdout",
     "output_type": "stream",
     "text": [
      "count   138,493.000\n",
      "mean        144.414\n",
      "std         230.267\n",
      "min          20.000\n",
      "25%          35.000\n",
      "50%          68.000\n",
      "75%         155.000\n",
      "max       9,254.000\n",
      "Name: movie_id, dtype: float64\n"
     ]
    },
    {
     "data": {
      "image/png": "[encoded data removed]",
      "text/plain": [
       "<Figure size 1440x720 with 1 Axes>"
      ]
     },
     "metadata": {
      "needs_background": "light"
     },
     "output_type": "display_data"
    }
   ],
   "source": [
    "n_ratings = ratings.groupby(['user_id']).movie_id.count()\n",
    "print(n_ratings.describe())\n",
    "plt.figure(figsize=(20, 10))\n",
    "plt.hist(n_ratings, bins=100)\n",
    "plt.yscale('log')\n",
    "plt.xlabel('Number of ratings')\n",
    "plt.ylabel('Number of users')\n",
    "plt.show()"
   ]
  },
  {
   "cell_type": "code",
   "execution_count": null,
   "metadata": {},
   "outputs": [],
   "source": [
    "ratings['year'] = ratings.timestamp.apply(lambda ts: datetime.datetime.fromtimestamp(ts).year)"
   ]
  },
  {
   "cell_type": "code",
   "execution_count": null,
   "metadata": {},
   "outputs": [],
   "source": [
    "plt.figure(figsize=(20, 10))\n",
    "years = ratings.year.dropna().astype(int).tolist()\n",
    "bins = int(np.max(years) - np.min(years))\n",
    "plt.hist(years, bins=bins, align='right')\n",
    "plt.xlabel('Rating year')\n",
    "plt.ylabel('Number of ratings')\n",
    "plt.show()"
   ]
  },
  {
   "cell_type": "code",
   "execution_count": null,
   "metadata": {},
   "outputs": [],
   "source": [
    "ratings.info()"
   ]
  },
  {
   "cell_type": "code",
   "execution_count": null,
   "metadata": {},
   "outputs": [],
   "source": [
    "movies.to_csv('data/movies_clean.csv', index=False)\n",
    "ratings.to_csv('data/ratings_clean.csv', index=False)"
   ]
  },
  {
   "cell_type": "code",
   "execution_count": null,
   "metadata": {},
   "outputs": [],
   "source": [
    "ratings = ratings.sample(frac=1.0)\n",
    "train_lim = int(0.8 * len(ratings))\n",
    "ratings[:train_lim].to_csv('data/ratings_train.csv', index=False)\n",
    "ratings[train_lim:].to_csv('data/ratings_test.csv', index=False)"
   ]
  }
 ],
 "metadata": {
  "kernelspec": {
   "display_name": "Python 3",
   "language": "python",
   "name": "python3"
  },
  "language_info": {
   "codemirror_mode": {
    "name": "ipython",
    "version": 3
   },
   "file_extension": ".py",
   "mimetype": "text/x-python",
   "name": "python",
   "nbconvert_exporter": "python",
   "pygments_lexer": "ipython3",
   "version": "3.6.7"
  }
 },
 "nbformat": 4,
 "nbformat_minor": 2
}
